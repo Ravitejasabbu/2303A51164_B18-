{
  "nbformat": 4,
  "nbformat_minor": 0,
  "metadata": {
    "colab": {
      "provenance": [],
      "authorship_tag": "ABX9TyOdfk2dQ7KCoGUqrdflkw3N",
      "include_colab_link": true
    },
    "kernelspec": {
      "name": "python3",
      "display_name": "Python 3"
    },
    "language_info": {
      "name": "python"
    }
  },
  "cells": [
    {
      "cell_type": "markdown",
      "metadata": {
        "id": "view-in-github",
        "colab_type": "text"
      },
      "source": [
        "<a href=\"https://colab.research.google.com/github/Ravitejasabbu/2303A51164_B18-/blob/main/2303A51164_B_18.ipynb\" target=\"_parent\"><img src=\"https://colab.research.google.com/assets/colab-badge.svg\" alt=\"Open In Colab\"/></a>"
      ]
    },
    {
      "cell_type": "code",
      "execution_count": 1,
      "metadata": {
        "colab": {
          "base_uri": "https://localhost:8080/"
        },
        "id": "Xtvzv1dsVOwq",
        "outputId": "2bd0f761-a47e-4470-825a-3ca330158f6b"
      },
      "outputs": [
        {
          "output_type": "stream",
          "name": "stdout",
          "text": [
            "Enter a number:4\n",
            "The factorial of 4 is 24\n"
          ]
        }
      ],
      "source": [
        "def factorial(n):\n",
        "  if n==0 or n==1:\n",
        "   return 1\n",
        "  else:\n",
        "   return n*factorial(n-1)\n",
        "\n",
        "number= int(input(\"Enter a number:\"))\n",
        "if number < 0:\n",
        "  print(\"Factorial is not defined for negative numbers.\")\n",
        "else:\n",
        "  result= factorial(number)\n",
        "  print(f\"The factorial of {number} is {result}\")"
      ]
    },
    {
      "cell_type": "code",
      "source": [
        "def factorial(n):\n",
        "\n",
        "    if n ==0 or n ==1:\n",
        "\n",
        "        return 1\n",
        "\n",
        "    return n * factorial(n - 1)\n",
        "\n",
        "def compute_permutation(n, r):\n",
        "\n",
        "    if n < r:\n",
        "\n",
        "        raise ValueError(\"Invalid input: n must be greater than or equal to r.\")\n",
        "\n",
        "    print(f\"Calculating {n}P{r} = {n}! / ({n} - {r})!\")\n",
        "\n",
        "    numerator = factorial(n)\n",
        "\n",
        "    denominator = factorial(n - r)\n",
        "\n",
        "    print(f\"{n}! = {numerator}\")\n",
        "\n",
        "    print(f\"({n}-{r})! = {denominator}\")\n",
        "\n",
        "    result = numerator // denominator\n",
        "\n",
        "    print(f\"Permutations = {result}\")\n",
        "\n",
        "    return result\n",
        "\n",
        "# Example Usage\n",
        "\n",
        "try:\n",
        "\n",
        "    n = int(input(\"Enter total number of people (n): \"))\n",
        "\n",
        "    r = int(input(\"Enter number of places (r): \"))\n",
        "\n",
        "    compute_permutation(n, r)\n",
        "\n",
        "except ValueError as e:\n",
        "\n",
        "    print(\"Error:\", e)"
      ],
      "metadata": {
        "colab": {
          "base_uri": "https://localhost:8080/"
        },
        "id": "iEr7euYKYZTb",
        "outputId": "e5adb891-589e-4ed7-c9f3-32c62b79281d"
      },
      "execution_count": 2,
      "outputs": [
        {
          "output_type": "stream",
          "name": "stdout",
          "text": [
            "Enter total number of people (n): 9\n",
            "Enter number of places (r): 7\n",
            "Calculating 9P7 = 9! / (9 - 7)!\n",
            "9! = 362880\n",
            "(9-7)! = 2\n",
            "Permutations = 181440\n"
          ]
        }
      ]
    }
  ]
}